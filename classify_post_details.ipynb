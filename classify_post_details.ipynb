{
 "cells": [
  {
   "cell_type": "code",
   "execution_count": 64,
   "metadata": {},
   "outputs": [
    {
     "data": {
      "text/plain": [
       "True"
      ]
     },
     "execution_count": 64,
     "metadata": {},
     "output_type": "execute_result"
    }
   ],
   "source": [
    "import os\n",
    "from dotenv import load_dotenv\n",
    "\n",
    "# Load the environment variables from the .env file\n",
    "# Loads the COHERE_API_KEY into the environment\n",
    "load_dotenv()"
   ]
  },
  {
   "cell_type": "code",
   "execution_count": 65,
   "metadata": {},
   "outputs": [],
   "source": [
    "import cohere\n",
    "import pandas as pd\n",
    "import numpy as np"
   ]
  },
  {
   "cell_type": "code",
   "execution_count": 66,
   "metadata": {},
   "outputs": [
    {
     "data": {
      "text/html": [
       "<div>\n",
       "<style scoped>\n",
       "    .dataframe tbody tr th:only-of-type {\n",
       "        vertical-align: middle;\n",
       "    }\n",
       "\n",
       "    .dataframe tbody tr th {\n",
       "        vertical-align: top;\n",
       "    }\n",
       "\n",
       "    .dataframe thead th {\n",
       "        text-align: right;\n",
       "    }\n",
       "</style>\n",
       "<table border=\"1\" class=\"dataframe\">\n",
       "  <thead>\n",
       "    <tr style=\"text-align: right;\">\n",
       "      <th></th>\n",
       "      <th>uid</th>\n",
       "      <th>title</th>\n",
       "      <th>url</th>\n",
       "      <th>author</th>\n",
       "      <th>content</th>\n",
       "      <th>date</th>\n",
       "      <th>order</th>\n",
       "    </tr>\n",
       "  </thead>\n",
       "  <tbody>\n",
       "    <tr>\n",
       "      <th>0</th>\n",
       "      <td>c897f16d-d8a3-554a-aec7-733500b736bf</td>\n",
       "      <td>Welcome to Distill.io</td>\n",
       "      <td>https://forums.distill.io/t/welcome-to-distill...</td>\n",
       "      <td>system</td>\n",
       "      <td>A community for discussing topics for web moni...</td>\n",
       "      <td>NaN</td>\n",
       "      <td>1.0</td>\n",
       "    </tr>\n",
       "    <tr>\n",
       "      <th>1</th>\n",
       "      <td>0dbde9e9-7666-5620-8e64-98e3703a43aa</td>\n",
       "      <td>E macro error, solution not working for USA vi...</td>\n",
       "      <td>https://forums.distill.io/t/e-macro-error-solu...</td>\n",
       "      <td>azeez</td>\n",
       "      <td>I have tried all I could to resolve the e macr...</td>\n",
       "      <td>NaN</td>\n",
       "      <td>1.0</td>\n",
       "    </tr>\n",
       "    <tr>\n",
       "      <th>2</th>\n",
       "      <td>451748b1-4572-58de-819d-41e9e11f189a</td>\n",
       "      <td>Distill not detecting change in selected field</td>\n",
       "      <td>https://forums.distill.io/t/distill-not-detect...</td>\n",
       "      <td>lezgogirls</td>\n",
       "      <td>Hi, I’m monitoring the below website for chang...</td>\n",
       "      <td>NaN</td>\n",
       "      <td>1.0</td>\n",
       "    </tr>\n",
       "    <tr>\n",
       "      <th>3</th>\n",
       "      <td>29b3514e-2218-531e-a0f1-37d9fd578ed8</td>\n",
       "      <td>Distill not detecting change in selected field</td>\n",
       "      <td>https://forums.distill.io/t/distill-not-detect...</td>\n",
       "      <td>ajitk</td>\n",
       "      <td>One of the things to look out for in this case...</td>\n",
       "      <td>February 12, 2024,  5:06pm</td>\n",
       "      <td>2.0</td>\n",
       "    </tr>\n",
       "    <tr>\n",
       "      <th>4</th>\n",
       "      <td>183b1ac5-8c02-5e4d-ad2f-969d1ab43f15</td>\n",
       "      <td>Distill not detecting change in selected field</td>\n",
       "      <td>https://forums.distill.io/t/distill-not-detect...</td>\n",
       "      <td>lezgogirls</td>\n",
       "      <td>Thanks so much, I will try that.</td>\n",
       "      <td>February 12, 2024,  5:20pm</td>\n",
       "      <td>3.0</td>\n",
       "    </tr>\n",
       "  </tbody>\n",
       "</table>\n",
       "</div>"
      ],
      "text/plain": [
       "                                    uid  \\\n",
       "0  c897f16d-d8a3-554a-aec7-733500b736bf   \n",
       "1  0dbde9e9-7666-5620-8e64-98e3703a43aa   \n",
       "2  451748b1-4572-58de-819d-41e9e11f189a   \n",
       "3  29b3514e-2218-531e-a0f1-37d9fd578ed8   \n",
       "4  183b1ac5-8c02-5e4d-ad2f-969d1ab43f15   \n",
       "\n",
       "                                               title  \\\n",
       "0                              Welcome to Distill.io   \n",
       "1  E macro error, solution not working for USA vi...   \n",
       "2     Distill not detecting change in selected field   \n",
       "3     Distill not detecting change in selected field   \n",
       "4     Distill not detecting change in selected field   \n",
       "\n",
       "                                                 url      author  \\\n",
       "0  https://forums.distill.io/t/welcome-to-distill...      system   \n",
       "1  https://forums.distill.io/t/e-macro-error-solu...       azeez   \n",
       "2  https://forums.distill.io/t/distill-not-detect...  lezgogirls   \n",
       "3  https://forums.distill.io/t/distill-not-detect...       ajitk   \n",
       "4  https://forums.distill.io/t/distill-not-detect...  lezgogirls   \n",
       "\n",
       "                                             content  \\\n",
       "0  A community for discussing topics for web moni...   \n",
       "1  I have tried all I could to resolve the e macr...   \n",
       "2  Hi, I’m monitoring the below website for chang...   \n",
       "3  One of the things to look out for in this case...   \n",
       "4                   Thanks so much, I will try that.   \n",
       "\n",
       "                         date  order  \n",
       "0                         NaN    1.0  \n",
       "1                         NaN    1.0  \n",
       "2                         NaN    1.0  \n",
       "3  February 12, 2024,  5:06pm    2.0  \n",
       "4  February 12, 2024,  5:20pm    3.0  "
      ]
     },
     "execution_count": 66,
     "metadata": {},
     "output_type": "execute_result"
    }
   ],
   "source": [
    "df = pd.read_csv('forum_post_details.csv')\n",
    "df.head()"
   ]
  },
  {
   "cell_type": "code",
   "execution_count": 67,
   "metadata": {},
   "outputs": [
    {
     "name": "stderr",
     "output_type": "stream",
     "text": [
      "/var/folders/0f/214wbrld1gbdvhd6jrv5q2380000gn/T/ipykernel_78854/2914912303.py:1: FutureWarning: A value is trying to be set on a copy of a DataFrame or Series through chained assignment using an inplace method.\n",
      "The behavior will change in pandas 3.0. This inplace method will never work because the intermediate object on which we are setting values always behaves as a copy.\n",
      "\n",
      "For example, when doing 'df[col].method(value, inplace=True)', try using 'df.method({col: value}, inplace=True)' or df[col] = df[col].method(value) instead, to perform the operation inplace on the original object.\n",
      "\n",
      "\n",
      "  df['content'].replace([np.NaN],'This is a DUMMY statement',inplace=True)\n"
     ]
    }
   ],
   "source": [
    "df['content'].replace([np.NaN],'This is a DUMMY statement',inplace=True)\n",
    "#COHERE's classification API does not accept mal-formed JSON's with NaN values. Hence, replacing them with a dummy statement instead."
   ]
  },
  {
   "cell_type": "code",
   "execution_count": 68,
   "metadata": {},
   "outputs": [],
   "source": [
    "#Cohere API test\n",
    "co = cohere.Client(os.getenv('COHERE_API_KEY'))\n",
    "\n",
    "response = co.generate(\n",
    "  prompt='Please explain to me how LLMs work',\n",
    "  max_tokens=100\n",
    ")"
   ]
  },
  {
   "cell_type": "code",
   "execution_count": 69,
   "metadata": {},
   "outputs": [
    {
     "name": "stdout",
     "output_type": "stream",
     "text": [
      " LLMs, or Large Language Models, are a type of neural network-based AI model that has been trained on massive amounts of text data and have become pervasive in people's lives. They are designed to interpret, create, and predict human language. After training, LLMs can perform tasks such as generating text for images, translating languages, and answering questions.\n",
      "\n",
      "LLMs are a type of neural network, which means that they are composed of many connected layers of nodes, or \"neurons\n"
     ]
    }
   ],
   "source": [
    "print(response.generations[0].text)"
   ]
  },
  {
   "cell_type": "code",
   "execution_count": 70,
   "metadata": {},
   "outputs": [],
   "source": [
    "from cohere.responses.classify import Example\n",
    "# A set of examples showcasing different types of forum posts and their respective manual classifications.\n",
    "# Each forum post/reponse is classifed into one of 3 categories as: Question / Answer / Statement\n",
    "\n",
    "examples=[\n",
    "    Example(\"Hi, I’m monitoring the below website for changes to see when tickets become available but despite regulator monitoring (using local monitor running in frequent intervals), it is not detecting changes when tickets do become available. I’ve selected the field saying Sorry, we don’t currently have any tickets for this event to monitor for when it gets removed when tickets are available, but Distill doesn’t let me know when tickets are posted. Please advise, thanks\",'Question'),\n",
    "    Example(\"One of the things to look out for in this case is to make sure that when the original message disappears, the monitor still has some text to monitor. If it doesn’t, the monitor can encounter a SELECTION_EMPTY error. Check out https://distill.io/docs/web-monitor/troubleshooting-errors/#selection_empty 1 The easiest recommendation in this case is to add one more element to the selection. The event’s title is a good one because it is going to be present in both cases. The CSS selectors for the two selections can be: #eventName #no-listings-found Monitoring elements using these two selectors should work well. Try it out and let me know if it works. Cheers!\", 'Answer'),\n",
    "    Example(\"Thanks so much, I will try that.\", 'Statement'),\n",
    "    Example(\"Hi! 1. Phone Push Notification Audio Alert I activated the phone push notification but it’s giving what sounds like a little child saying Hello and in all honestly, it sounds quite creepy. I really don’t like it but I need an audio notification on my phone. Please tell me where to choose another phone alert. The push notification button on the phone settings- IS that for audio alert? I’m not sure how I’m getting the audio actually I noticed that the phone alert only alerts if my web monitor is on my PC (when I switch my PC on), I really need it to alert me when the PC is off - I am assuming that is the purpose. Kindly advise what settings to look at. I need the app to work in the background and not only when I switch on the laptop (as per point no 3) and also if the app has been closed on the phone. I need it to notify irrespective of whether the app is open on the phone or not. Kindly advise. Thank you! Really NB. Thank you and kind regards,\", 'Question'),\n",
    "    Example(\"Thanks for the feedback about the push notification sound, Julia. The Android app’s default sound is the hello in a child’s voice. We will change it in the next update. You can choose a different push notification sound under the app’s settings. The push notification is sent using an action. The action could either be configured in a monitor’s Options page or in global actions page. It looks like this: Local monitors only run when the device they are set to run on is active. Cloud monitors can be used to run monitor 24x7 without the need to keep the PC on. Here is an article with more information: Local Monitor vs. Cloud Monitor – Distill This is related to the last point. Cloud monitor is the way to run things in the background. Please note that the phone app doesn’t check the monitors for changes. Its primary use is to get push notifications and manage the Watchlist.\", 'Answer'),\n",
    "    Example(\"Is there any way to exclude specific monitors from a particular global action? It would be very convenient to be able to set global actions (such as push notification) and then disable it for select monitors. Thanks!\", 'Question'),\n",
    "    Example(\"Global actions don’t support exclusions and apply to all monitors. We plan to let users create actions for a specific filter (say a label) to offer more control over how to configure them.\", 'Answer'),\n",
    "    Example(\"Feel free to share details of your use case @trishmulvihill. We will be happy to help.\", 'Statement'),\n",
    "    Example(\"Thanks for reaching out, Kyle. It should be possible to customize the config to filter out promoted tweets. I was looking for one but could not stumble on one right now. Will you be able to share html code of a promoted tweet in a timeline? Browser’s inbuilt element inspector can be used to copy it. Let me know if you need any help getting that out. Cheers!\", 'Answer'),\n",
    "    Example('What “Bell” is referred to in this post-acknowledgment?','Question'),\n",
    "    Example(\"Thanks for sharing the use case. I can see the appeal of creating multiple monitors here. ’ve tried sorting the page alphabetically and then tagging each items price all under one monitor. The notification works but all I get in the notification is the change of price but I don’t know which item it is attached to without pulling open the website and checking to see which item has the new price. You can include each item’s name in your selection too. That will be a good way to see name and price in the monitored item list. Let me know if there is any issue with this approach.\",'Answer'),\n",
    "    Example(\"I have it set to alert me when a price drops below a certain threshold. Is there a way where I can have it track multiple prices on the same page in one monitor and alert if any of them drops below? I will take a closer look.\", 'Question'),\n",
    "]\n",
    "\n",
    "sample_inputs = df['content'].tolist()\n",
    "#print(sample_inputs)\n"
   ]
  },
  {
   "cell_type": "code",
   "execution_count": 71,
   "metadata": {},
   "outputs": [
    {
     "name": "stdout",
     "output_type": "stream",
     "text": [
      "0\n",
      "1\n",
      "2\n"
     ]
    }
   ],
   "source": [
    "#sample inputs needs to be split into chunks of 96 inputs each (max allowed by Cohere's API)\n",
    "def chunk_list(input_list, chunk_size):\n",
    "    \"\"\"Yield successive chunk_size chunks from input_list.\"\"\"\n",
    "    for i in range(0, len(input_list), chunk_size):\n",
    "        yield input_list[i:i + chunk_size]\n",
    "\n",
    "chunks = list(chunk_list(sample_inputs,96)) #Break sample_inputs into chunks\n",
    "\n",
    "classifications = []\n",
    "i=0\n",
    "for chunk in chunks:\n",
    "    print(i)\n",
    "    response = co.classify(\n",
    "        inputs=chunk,\n",
    "        examples = examples,\n",
    "    )\n",
    "    resp_class = [resp.predictions[0] for resp in response]\n",
    "    classifications.extend(resp_class)\n",
    "    i=i+1\n",
    "\n"
   ]
  },
  {
   "cell_type": "code",
   "execution_count": 72,
   "metadata": {},
   "outputs": [],
   "source": [
    "#Set column 'Type' as the classifications returned by Cohere's API\n",
    "df['Type']=classifications"
   ]
  },
  {
   "cell_type": "code",
   "execution_count": 73,
   "metadata": {},
   "outputs": [
    {
     "data": {
      "text/html": [
       "<div>\n",
       "<style scoped>\n",
       "    .dataframe tbody tr th:only-of-type {\n",
       "        vertical-align: middle;\n",
       "    }\n",
       "\n",
       "    .dataframe tbody tr th {\n",
       "        vertical-align: top;\n",
       "    }\n",
       "\n",
       "    .dataframe thead th {\n",
       "        text-align: right;\n",
       "    }\n",
       "</style>\n",
       "<table border=\"1\" class=\"dataframe\">\n",
       "  <thead>\n",
       "    <tr style=\"text-align: right;\">\n",
       "      <th></th>\n",
       "      <th>uid</th>\n",
       "      <th>title</th>\n",
       "      <th>url</th>\n",
       "      <th>author</th>\n",
       "      <th>content</th>\n",
       "      <th>date</th>\n",
       "      <th>order</th>\n",
       "      <th>Type</th>\n",
       "    </tr>\n",
       "  </thead>\n",
       "  <tbody>\n",
       "    <tr>\n",
       "      <th>0</th>\n",
       "      <td>c897f16d-d8a3-554a-aec7-733500b736bf</td>\n",
       "      <td>Welcome to Distill.io</td>\n",
       "      <td>https://forums.distill.io/t/welcome-to-distill...</td>\n",
       "      <td>system</td>\n",
       "      <td>A community for discussing topics for web moni...</td>\n",
       "      <td>NaN</td>\n",
       "      <td>1.0</td>\n",
       "      <td>Answer</td>\n",
       "    </tr>\n",
       "    <tr>\n",
       "      <th>1</th>\n",
       "      <td>0dbde9e9-7666-5620-8e64-98e3703a43aa</td>\n",
       "      <td>E macro error, solution not working for USA vi...</td>\n",
       "      <td>https://forums.distill.io/t/e-macro-error-solu...</td>\n",
       "      <td>azeez</td>\n",
       "      <td>I have tried all I could to resolve the e macr...</td>\n",
       "      <td>NaN</td>\n",
       "      <td>1.0</td>\n",
       "      <td>Statement</td>\n",
       "    </tr>\n",
       "    <tr>\n",
       "      <th>2</th>\n",
       "      <td>451748b1-4572-58de-819d-41e9e11f189a</td>\n",
       "      <td>Distill not detecting change in selected field</td>\n",
       "      <td>https://forums.distill.io/t/distill-not-detect...</td>\n",
       "      <td>lezgogirls</td>\n",
       "      <td>Hi, I’m monitoring the below website for chang...</td>\n",
       "      <td>NaN</td>\n",
       "      <td>1.0</td>\n",
       "      <td>Question</td>\n",
       "    </tr>\n",
       "    <tr>\n",
       "      <th>3</th>\n",
       "      <td>29b3514e-2218-531e-a0f1-37d9fd578ed8</td>\n",
       "      <td>Distill not detecting change in selected field</td>\n",
       "      <td>https://forums.distill.io/t/distill-not-detect...</td>\n",
       "      <td>ajitk</td>\n",
       "      <td>One of the things to look out for in this case...</td>\n",
       "      <td>February 12, 2024,  5:06pm</td>\n",
       "      <td>2.0</td>\n",
       "      <td>Answer</td>\n",
       "    </tr>\n",
       "    <tr>\n",
       "      <th>4</th>\n",
       "      <td>183b1ac5-8c02-5e4d-ad2f-969d1ab43f15</td>\n",
       "      <td>Distill not detecting change in selected field</td>\n",
       "      <td>https://forums.distill.io/t/distill-not-detect...</td>\n",
       "      <td>lezgogirls</td>\n",
       "      <td>Thanks so much, I will try that.</td>\n",
       "      <td>February 12, 2024,  5:20pm</td>\n",
       "      <td>3.0</td>\n",
       "      <td>Statement</td>\n",
       "    </tr>\n",
       "  </tbody>\n",
       "</table>\n",
       "</div>"
      ],
      "text/plain": [
       "                                    uid  \\\n",
       "0  c897f16d-d8a3-554a-aec7-733500b736bf   \n",
       "1  0dbde9e9-7666-5620-8e64-98e3703a43aa   \n",
       "2  451748b1-4572-58de-819d-41e9e11f189a   \n",
       "3  29b3514e-2218-531e-a0f1-37d9fd578ed8   \n",
       "4  183b1ac5-8c02-5e4d-ad2f-969d1ab43f15   \n",
       "\n",
       "                                               title  \\\n",
       "0                              Welcome to Distill.io   \n",
       "1  E macro error, solution not working for USA vi...   \n",
       "2     Distill not detecting change in selected field   \n",
       "3     Distill not detecting change in selected field   \n",
       "4     Distill not detecting change in selected field   \n",
       "\n",
       "                                                 url      author  \\\n",
       "0  https://forums.distill.io/t/welcome-to-distill...      system   \n",
       "1  https://forums.distill.io/t/e-macro-error-solu...       azeez   \n",
       "2  https://forums.distill.io/t/distill-not-detect...  lezgogirls   \n",
       "3  https://forums.distill.io/t/distill-not-detect...       ajitk   \n",
       "4  https://forums.distill.io/t/distill-not-detect...  lezgogirls   \n",
       "\n",
       "                                             content  \\\n",
       "0  A community for discussing topics for web moni...   \n",
       "1  I have tried all I could to resolve the e macr...   \n",
       "2  Hi, I’m monitoring the below website for chang...   \n",
       "3  One of the things to look out for in this case...   \n",
       "4                   Thanks so much, I will try that.   \n",
       "\n",
       "                         date  order       Type  \n",
       "0                         NaN    1.0     Answer  \n",
       "1                         NaN    1.0  Statement  \n",
       "2                         NaN    1.0   Question  \n",
       "3  February 12, 2024,  5:06pm    2.0     Answer  \n",
       "4  February 12, 2024,  5:20pm    3.0  Statement  "
      ]
     },
     "execution_count": 73,
     "metadata": {},
     "output_type": "execute_result"
    }
   ],
   "source": [
    "df.head()"
   ]
  },
  {
   "cell_type": "code",
   "execution_count": 74,
   "metadata": {},
   "outputs": [],
   "source": [
    "df.to_csv('forum_post_details_with_type.csv',index=False)"
   ]
  }
 ],
 "metadata": {
  "kernelspec": {
   "display_name": "venv_kaggle",
   "language": "python",
   "name": "python3"
  },
  "language_info": {
   "codemirror_mode": {
    "name": "ipython",
    "version": 3
   },
   "file_extension": ".py",
   "mimetype": "text/x-python",
   "name": "python",
   "nbconvert_exporter": "python",
   "pygments_lexer": "ipython3",
   "version": "3.11.7"
  }
 },
 "nbformat": 4,
 "nbformat_minor": 2
}
